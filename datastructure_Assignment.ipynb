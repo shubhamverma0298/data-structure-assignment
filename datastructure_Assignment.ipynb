{
  "nbformat": 4,
  "nbformat_minor": 0,
  "metadata": {
    "colab": {
      "provenance": []
    },
    "kernelspec": {
      "name": "python3",
      "display_name": "Python 3"
    },
    "language_info": {
      "name": "python"
    }
  },
  "cells": [
    {
      "cell_type": "markdown",
      "source": [
        "# **Data structure**"
      ],
      "metadata": {
        "id": "puv5A9sGaWQ2"
      }
    },
    {
      "cell_type": "markdown",
      "source": [
        "**Q 1 What are data structures, and why are they important ?**\n",
        "  - Data structures are ways of organizing and storing data so that it can be accessed and used efficiently by the user after they are created. for example strings, array , lists , sets ,dictionary etc.\n",
        "  - Importance of the data structure are.\n",
        "\n",
        "  1 make code easier to understand.\n",
        "\n",
        "  2 make code more efficent to use for new codder.\n",
        "\n",
        "  3 Data structures are used to design algorithms for solving complex problems.\n",
        "\n",
        "  4 Data structures help users and systems organize, work with, and store data.\n",
        "\n",
        "**Q 2 Explain the difference between mutable and immutable data types with examples ?**\n",
        "  - Mutable Data Type  - Mutable Data Type are data Type that can be changed after they are created.\n",
        "  \n",
        "  Examples - lists, array etc\n",
        "\n",
        "   l=[\"apple\",\"banana\",1,1.2,259]\n",
        "\n",
        "   l[0]=\"mango\"\n",
        "\n",
        "   l[-1]=365\n",
        "\n",
        "   print(l)\n",
        "\n",
        "   output -  ['mango', 'banana', 1, 1.2, 365]\n",
        "\n",
        "  - Immutable Data Type - Immutable Data Type are data type that can't be changed after they are created.\n",
        "\n",
        "   Examples - tuples, strings\n",
        "\n",
        "   string= \"hello\"\n",
        "\n",
        "   string[0]=\"A\"\n",
        "\n",
        "   output - TypeError: 'str' object does not support item assignment\n",
        "\n",
        "**Q 3 What are the main differences between lists and tuples in Python ?**\n",
        "  - The main difference between lists and tuples are that list is mutable and tuple is immutable.\n",
        "\n",
        "**Q 4 Describe how dictionaries store data ?**\n",
        "  - Dictionaries are data type which is collection of ordered , changeable data type.\n",
        "\n",
        "  dictionaries are used to store data values as pair of Keys and values in hash table.\n",
        "\n",
        "  Example -\n",
        "  \n",
        "            dic={\"name\":\"rohan\",\"surname\":\"sharma\"}\n",
        "\n",
        "           #input as keys     #output as values\n",
        "            dic[\"name\"]      output - 'rohan'\n",
        "\n",
        "            dic[\"surname\"]   output - 'sharma'\n",
        "      \n",
        "**Q 5 Why might you use a set instead of a list in Python ?**\n",
        "  - We can use set instead of a list because set cannot have multiple occurrences of the same element.\n",
        "  - Sets do not allows duplicacy but in lists we can have same variable for many times\n",
        "\n",
        "**Q 6 What is a string in Python, and how is it different from a list?**\n",
        "  - String - string is a sequence of characters in quotes.\n",
        "             \n",
        "             string is a immutable data type means can't change after they are created.\n",
        "\n",
        "     List - list is a sequence of items in brackets.list is heterogeneous data type means can store different kind of variables in them.\n",
        "           \n",
        "           list is a mutable data type means can change after they are created.\n",
        "\n",
        "**Q 7 How do tuples ensure data integrity in Python?**\n",
        "  - Tuples ensure data integrity in python because they are immutable data type means can't change after they are created.\n",
        "  \n",
        "  for example\n",
        "  \n",
        "  tup=(12,25,36)\n",
        "\n",
        "  tup[0]=29\n",
        "\n",
        "  output:\n",
        "\n",
        "  TypeError: 'tuple' object does not support item assignment\n",
        "\n",
        "\n",
        "**Q 8 What is a hash table, and how does it relate to dictionaries in Python?**\n",
        "  - A hash table is a data structure where data is stored in an associative manner.That allows for quick insertion, deletion, and retrieval of data. It works by using a hash function to map a key to an index in an array.\n",
        "\n",
        "  it is related to dictionaries as in dictionaries their are key and values pair to store the data and dictionary data type used hash table to store the data and to access the data and for fast data retrieval\n",
        "\n",
        "**Q 9 Can lists contain different data types in Python?**\n",
        "  - List is a sequence of items in brackets [ ].\n",
        "  \n",
        "  - Yes lists can contain differnts data type in python as flows string,integer,characters,float,boolean,complex numbers etc.\n",
        "\n",
        "  Example - l1=[\"array\",12,12.6,True,\"a\",3+6j]\n",
        "\n",
        "**Q 10 Explain why strings are immutable in Python?**\n",
        "  -  string= \"hello\"\n",
        "\n",
        "     string[0]=\"A\"\n",
        "\n",
        "   output - TypeError: 'str' object does not support item assignment.\n",
        "\n",
        "   Explanation: We cannot update the string after declaring it means once an immutable the objects instantiated, its value cannot be changed.\n",
        "  \n",
        "**Q 11 What advantages do dictionaries offer over lists for certain tasks?**\n",
        "  - Dictionaries are faster than lists for certain tasks like data retrieval.\n",
        "    Dictionaries are also easier to read when generating key-value pairs.\n",
        "\n",
        "**Q 12 Describe a scenario where using a tuple would be preferable over a list?**\n",
        "  - In employId tuple is preferable then the list because tuple is immutable but list is mutable because employId is a data which can't be changed after it is created. EmployId is the key to find more details about the specific employ  \n",
        "\n",
        "**Q 13 How do sets handle duplicate values in Python?**\n",
        "  - Sets do not allow duplicate values in python and they will take it as one variable only.\n",
        "  Set use a hash table to store elements When you add a value Python calculates its hash and places it in a unique position.\n",
        "  if a duplicate value is added, Python checks its hash and sees that it already exists, so it ignores the new one.                       \n",
        "  for example -\n",
        "                s={\"orange\",\"blue\",\"orange\",\"red\",\"blue\"}\n",
        "                print(s)\n",
        "                output - {'orange','blue','red'} it may vary because set is unordered data type\n",
        "                \n",
        "**Q 14 How does the “in” keyword work differently for lists and dictionaries?**\n",
        "  - In keyword work for list to check whether the variable is present in a list as a index but in dictionary it is used to check whether the Key is present or not.\n",
        "\n",
        "**Q 15 Can you modify the elements of a tuple? Explain why or why not?**\n",
        "  - We can't modify the elements of tuple because tuple is immutable means can't change after they are created.\n",
        "  \n",
        "  tuple=(1,2,\"bhan\",\"manjai\",259,12.2)\n",
        "\n",
        "  tuple[3]     output - 'manjai'\n",
        "\n",
        "  tuple[3]=\"manoj\"\n",
        "  output - TypeError: 'tuple' object does not support item assignment\n",
        "\n",
        "**Q 16 What is a nested dictionary, and give an example of its use case?**\n",
        "  - A nested dictionary is a dictionary inside a dictionary. It's a collection of dictionaries into one single dictionary.\n",
        "\n",
        "  Example -    \n",
        "                    nested_dict = { 'dictA': {'key_1': 'value_1'},\n",
        "                                    'dictB': {'key_2': 'value_2'}}\n",
        "           \n",
        "           output - {'dictA': {'key_1': 'value_1'}, 'dictB': {'key_2': 'value_2'}}\n",
        "\n",
        "**Q 17 Describe the time complexity of accessing elements in a dictionary?**\n",
        "  - The time complexity of accessing the elements in a dictionary is **O(1)**.\n",
        "    This is because dictionaries use a hash table internally which allows constant time lookup.\n",
        "\n",
        "    example -\n",
        "              dic = {\"a\":1,\"b\":2,\"c\":3}\n",
        "              val= dic[\"b\"]\n",
        "              print(val)\n",
        "\n",
        "              output - 2\n",
        "\n",
        "**Q 18 In what situations are lists preferred over dictionaries ?**\n",
        "  - Lists are preferred over dictionaries in ordered collections and sequence operations, such as maintaining a stack or queue\n",
        "  - Because in lists where you access elements by index the data were retrieval in the same ordered they were inserted.\n",
        "  - Dictionaries are considered unordered because they stored key-value pairs in a hash table ,where elements were placed based on their hash value not in the ordered they were added.\n",
        "\n",
        "\n",
        "**Q 19 Why are dictionaries considered unordered, and how does that affect data retrieval?**\n",
        "  - Dictionaries are considered unordered because they stored key-value pairs in a hash table ,where elements were placed based on their hash value not in the ordered they were added.\n",
        "  - Retriering keys or values in the same ordered they were inserted was not possible.\n",
        "  - Unlike lists where you access elements by index, dictonary are optimized for fast Key-based access 0(1) not position-based retrieval\n",
        "\n",
        "**Q 20 Explain the difference between a list and a dictionary in terms of data retrieval?**\n",
        "  - Lists access elements via numerical index positions (starting from 0), while dictionaries use unique keys for efficient lookup, allowing faster retrieval of specific data (0(1)) time for accessing the data.\n",
        "    \n",
        "\n",
        "\n",
        "\n",
        "\n",
        "\n",
        "\n",
        "\n"
      ],
      "metadata": {
        "id": "IYJsyLmdE0xZ"
      }
    },
    {
      "cell_type": "markdown",
      "source": [
        "# **Practical Questions**"
      ],
      "metadata": {
        "id": "yjNgyy6eakRM"
      }
    },
    {
      "cell_type": "markdown",
      "source": [
        "**Q 1 Write a code to create a string with your name and print it ?**"
      ],
      "metadata": {
        "id": "2twbu5gma7gu"
      }
    },
    {
      "cell_type": "code",
      "source": [
        "name = \"shubham verma\"\n",
        "name"
      ],
      "metadata": {
        "colab": {
          "base_uri": "https://localhost:8080/",
          "height": 36
        },
        "id": "aZI5_47jbRup",
        "outputId": "0d64b674-b337-44a1-8b9c-c48fac81e7c4"
      },
      "execution_count": null,
      "outputs": [
        {
          "output_type": "execute_result",
          "data": {
            "text/plain": [
              "'shubham verma'"
            ],
            "application/vnd.google.colaboratory.intrinsic+json": {
              "type": "string"
            }
          },
          "metadata": {},
          "execution_count": 1
        }
      ]
    },
    {
      "cell_type": "markdown",
      "source": [
        "**Q 2 Write a code to find the length of the string \"Hello World\"?**"
      ],
      "metadata": {
        "id": "rZaOzZSSbhei"
      }
    },
    {
      "cell_type": "code",
      "source": [
        "string= \"Hello World\"\n",
        "len(string)"
      ],
      "metadata": {
        "colab": {
          "base_uri": "https://localhost:8080/"
        },
        "id": "uOhnjStsbWgu",
        "outputId": "b0fa5cdf-d5db-45fe-a7a7-cb5008cb58ba"
      },
      "execution_count": null,
      "outputs": [
        {
          "output_type": "execute_result",
          "data": {
            "text/plain": [
              "11"
            ]
          },
          "metadata": {},
          "execution_count": 2
        }
      ]
    },
    {
      "cell_type": "markdown",
      "source": [
        "**Q 3 Write a code to slice the first 3 characters from the string \"Python Programming\"?**"
      ],
      "metadata": {
        "id": "Xv91Ad_Abx5B"
      }
    },
    {
      "cell_type": "code",
      "source": [
        "st= \"Python Programming\"\n",
        "st[:3]"
      ],
      "metadata": {
        "colab": {
          "base_uri": "https://localhost:8080/",
          "height": 36
        },
        "id": "ikzZfFj0bucq",
        "outputId": "035e5abf-691c-4678-ff7d-8e8d812b5909"
      },
      "execution_count": null,
      "outputs": [
        {
          "output_type": "execute_result",
          "data": {
            "text/plain": [
              "'Pyt'"
            ],
            "application/vnd.google.colaboratory.intrinsic+json": {
              "type": "string"
            }
          },
          "metadata": {},
          "execution_count": 6
        }
      ]
    },
    {
      "cell_type": "markdown",
      "source": [
        "**Q 4 Write a code to convert the string \"hello\" to uppercase ?**"
      ],
      "metadata": {
        "id": "Ivk3WLlmcchw"
      }
    },
    {
      "cell_type": "code",
      "source": [
        "str=\"hello\"\n",
        "str.upper()"
      ],
      "metadata": {
        "colab": {
          "base_uri": "https://localhost:8080/",
          "height": 36
        },
        "id": "ueCUK4CocNtN",
        "outputId": "a45d2860-00f3-41c2-dadf-c086b4f2f93c"
      },
      "execution_count": null,
      "outputs": [
        {
          "output_type": "execute_result",
          "data": {
            "text/plain": [
              "'HELLO'"
            ],
            "application/vnd.google.colaboratory.intrinsic+json": {
              "type": "string"
            }
          },
          "metadata": {},
          "execution_count": 7
        }
      ]
    },
    {
      "cell_type": "markdown",
      "source": [
        "**Q 5 Write a code to replace the word \"apple\" with \"orange\" in the string \"I like apple\"?**"
      ],
      "metadata": {
        "id": "7UUxP8cVcvTb"
      }
    },
    {
      "cell_type": "code",
      "source": [
        "str=\"I like apple\"\n",
        "str.replace(\"apple\",\"orange\")"
      ],
      "metadata": {
        "colab": {
          "base_uri": "https://localhost:8080/",
          "height": 36
        },
        "id": "Cm43dYi0cscZ",
        "outputId": "92f6f54b-7f16-4db7-b0bd-bc16c0d6d1ac"
      },
      "execution_count": null,
      "outputs": [
        {
          "output_type": "execute_result",
          "data": {
            "text/plain": [
              "'I like orange'"
            ],
            "application/vnd.google.colaboratory.intrinsic+json": {
              "type": "string"
            }
          },
          "metadata": {},
          "execution_count": 8
        }
      ]
    },
    {
      "cell_type": "markdown",
      "source": [
        "**Q 6 Write a code to create a list with numbers 1 to 5 and print it ?**\n"
      ],
      "metadata": {
        "id": "bnId4dc1c_eL"
      }
    },
    {
      "cell_type": "code",
      "source": [
        "list=[1,2,3,4,5]\n",
        "list\n",
        "for i in list:\n",
        "  print(i)"
      ],
      "metadata": {
        "colab": {
          "base_uri": "https://localhost:8080/"
        },
        "id": "wLkLj6L8c92_",
        "outputId": "02c1097d-87d9-4c6f-fef0-522082801797"
      },
      "execution_count": null,
      "outputs": [
        {
          "output_type": "stream",
          "name": "stdout",
          "text": [
            "1\n",
            "2\n",
            "3\n",
            "4\n",
            "5\n"
          ]
        }
      ]
    },
    {
      "cell_type": "markdown",
      "source": [
        "**Q 7 Write a code to append the number 10 to the list [1, 2, 3, 4]?**"
      ],
      "metadata": {
        "id": "A3H0ncPTdRdc"
      }
    },
    {
      "cell_type": "code",
      "source": [
        "lst=[1,2,3,4]\n",
        "lst.append(10)\n",
        "lst"
      ],
      "metadata": {
        "colab": {
          "base_uri": "https://localhost:8080/"
        },
        "id": "B2EUL9JldLWG",
        "outputId": "80536e27-b78b-4bb7-82cd-13dde285414e"
      },
      "execution_count": null,
      "outputs": [
        {
          "output_type": "execute_result",
          "data": {
            "text/plain": [
              "[1, 2, 3, 4, 10]"
            ]
          },
          "metadata": {},
          "execution_count": 11
        }
      ]
    },
    {
      "cell_type": "markdown",
      "source": [
        "**Q 8 Write a code to remove the number 3 from the list [1, 2, 3, 4, 5]?**"
      ],
      "metadata": {
        "id": "XUBY7A8vdpiT"
      }
    },
    {
      "cell_type": "code",
      "source": [
        "lst= [1,2,3,4,5]\n",
        "lst.remove(3)\n",
        "lst"
      ],
      "metadata": {
        "colab": {
          "base_uri": "https://localhost:8080/"
        },
        "id": "Aa_GvQEOdh4c",
        "outputId": "5cb53336-b46b-49f5-c6fb-e6c02648448c"
      },
      "execution_count": null,
      "outputs": [
        {
          "output_type": "execute_result",
          "data": {
            "text/plain": [
              "[1, 2, 4, 5]"
            ]
          },
          "metadata": {},
          "execution_count": 12
        }
      ]
    },
    {
      "cell_type": "markdown",
      "source": [
        "**Q 9 Write a code to access the second element in the list ['a', 'b', 'c', 'd']?**"
      ],
      "metadata": {
        "id": "P3ZmN4Y_d5Ex"
      }
    },
    {
      "cell_type": "code",
      "source": [
        "lst= [\"a\",\"b\",\"c\",\"d\"]\n",
        "lst[1]"
      ],
      "metadata": {
        "colab": {
          "base_uri": "https://localhost:8080/",
          "height": 36
        },
        "id": "hSkmKWCFd0zl",
        "outputId": "6548b834-b6a7-40db-98a9-1e8e3a361821"
      },
      "execution_count": null,
      "outputs": [
        {
          "output_type": "execute_result",
          "data": {
            "text/plain": [
              "'b'"
            ],
            "application/vnd.google.colaboratory.intrinsic+json": {
              "type": "string"
            }
          },
          "metadata": {},
          "execution_count": 14
        }
      ]
    },
    {
      "cell_type": "markdown",
      "source": [
        "**Q 10 Write a code to reverse the list [10, 20, 30, 40, 50]?**"
      ],
      "metadata": {
        "id": "e2q7fwe5eRNC"
      }
    },
    {
      "cell_type": "code",
      "source": [
        "lst=[10, 20, 30, 40, 50]\n",
        "lst[::-1]\n"
      ],
      "metadata": {
        "colab": {
          "base_uri": "https://localhost:8080/"
        },
        "id": "Ik1s2UPQeNyY",
        "outputId": "34565e24-b90b-4da9-9e5e-ada268763f69"
      },
      "execution_count": null,
      "outputs": [
        {
          "output_type": "execute_result",
          "data": {
            "text/plain": [
              "[50, 40, 30, 20, 10]"
            ]
          },
          "metadata": {},
          "execution_count": 15
        }
      ]
    },
    {
      "cell_type": "markdown",
      "source": [
        "**Q 11  Write a code to create a tuple with the elements 100, 200, 300 and print it?**"
      ],
      "metadata": {
        "id": "STIZaUoNegWp"
      }
    },
    {
      "cell_type": "code",
      "source": [
        "tuple=(100,200,300)\n",
        "tuple"
      ],
      "metadata": {
        "colab": {
          "base_uri": "https://localhost:8080/"
        },
        "id": "ISGPAIRVee6T",
        "outputId": "88703144-663b-4b80-f312-4649269ba4ff"
      },
      "execution_count": null,
      "outputs": [
        {
          "output_type": "execute_result",
          "data": {
            "text/plain": [
              "(100, 200, 300)"
            ]
          },
          "metadata": {},
          "execution_count": 16
        }
      ]
    },
    {
      "cell_type": "markdown",
      "source": [
        "**Q 12  Write a code to access the second-to-last element of the tuple ('red', 'green', 'blue', 'yellow')?**"
      ],
      "metadata": {
        "id": "u6irhD3reuWb"
      }
    },
    {
      "cell_type": "code",
      "source": [
        "tuple=('red', 'green', 'blue', 'yellow')\n",
        "tuple[1:]"
      ],
      "metadata": {
        "colab": {
          "base_uri": "https://localhost:8080/"
        },
        "id": "ItcPG8x3etE-",
        "outputId": "0cf992c9-c0f7-4754-b548-fdbf0bc793df"
      },
      "execution_count": null,
      "outputs": [
        {
          "output_type": "execute_result",
          "data": {
            "text/plain": [
              "('green', 'blue', 'yellow')"
            ]
          },
          "metadata": {},
          "execution_count": 19
        }
      ]
    },
    {
      "cell_type": "markdown",
      "source": [
        "**Q 13 Write a code to find the minimum number in the tuple (10, 20, 5, 15)?**"
      ],
      "metadata": {
        "id": "2f7bDAUPfQb2"
      }
    },
    {
      "cell_type": "code",
      "source": [
        "tuple=(10, 20, 5, 15)\n",
        "min(tuple)"
      ],
      "metadata": {
        "colab": {
          "base_uri": "https://localhost:8080/"
        },
        "id": "35BiXYW1fJX3",
        "outputId": "8c8acd59-0c13-46c1-e9dc-187d16bd9315"
      },
      "execution_count": null,
      "outputs": [
        {
          "output_type": "execute_result",
          "data": {
            "text/plain": [
              "5"
            ]
          },
          "metadata": {},
          "execution_count": 20
        }
      ]
    },
    {
      "cell_type": "markdown",
      "source": [
        "**Q 14  Write a code to find the index of the element \"cat\" in the tuple ('dog', 'cat', 'rabbit')?**"
      ],
      "metadata": {
        "id": "1ChxeCcJubOk"
      }
    },
    {
      "cell_type": "code",
      "source": [
        "tuple=('dog', 'cat', 'rabbit')\n",
        "tuple.index(\"cat\")"
      ],
      "metadata": {
        "colab": {
          "base_uri": "https://localhost:8080/"
        },
        "id": "CFzL9m71uSRO",
        "outputId": "7d50896b-198f-417c-f824-dbf46c1f6c16"
      },
      "execution_count": null,
      "outputs": [
        {
          "output_type": "execute_result",
          "data": {
            "text/plain": [
              "1"
            ]
          },
          "metadata": {},
          "execution_count": 21
        }
      ]
    },
    {
      "cell_type": "markdown",
      "source": [
        "**Q 15 Write a code to create a tuple containing three different fruits and check if \"kiwi\" is in it?**"
      ],
      "metadata": {
        "id": "_SngbL8IupLv"
      }
    },
    {
      "cell_type": "code",
      "source": [
        "tup=(\"mango\",\"apple\",\"kiwi\",\"banana\",\"orange\")\n",
        "\"kiwi\" in tup"
      ],
      "metadata": {
        "colab": {
          "base_uri": "https://localhost:8080/"
        },
        "id": "okQ65oytuoB7",
        "outputId": "3f9bdd95-5bb3-4655-d4b2-9951a349cbff"
      },
      "execution_count": null,
      "outputs": [
        {
          "output_type": "execute_result",
          "data": {
            "text/plain": [
              "True"
            ]
          },
          "metadata": {},
          "execution_count": 23
        }
      ]
    },
    {
      "cell_type": "markdown",
      "source": [
        "**Q 16 Write a code to create a set with the elements 'a', 'b', 'c' and print it?**"
      ],
      "metadata": {
        "id": "oV3l_hU6xPJX"
      }
    },
    {
      "cell_type": "code",
      "source": [
        "s={\"a\",\"b\",\"c\"}\n",
        "s"
      ],
      "metadata": {
        "colab": {
          "base_uri": "https://localhost:8080/"
        },
        "id": "YsNP3BfkvFdP",
        "outputId": "fc7c3012-a051-4d0d-ab7e-7250b056775d"
      },
      "execution_count": null,
      "outputs": [
        {
          "output_type": "execute_result",
          "data": {
            "text/plain": [
              "{'a', 'b', 'c'}"
            ]
          },
          "metadata": {},
          "execution_count": 24
        }
      ]
    },
    {
      "cell_type": "markdown",
      "source": [
        "**Q 17 Write a code to clear all elements from the set {1, 2, 3, 4, 5}?**"
      ],
      "metadata": {
        "id": "kYFgdCBI0brg"
      }
    },
    {
      "cell_type": "code",
      "source": [
        "set={1,2,3,4,5}\n",
        "set.clear()\n",
        "set"
      ],
      "metadata": {
        "colab": {
          "base_uri": "https://localhost:8080/"
        },
        "id": "C3mCMsFsxezN",
        "outputId": "0cf7cfb1-622f-4ffc-8e21-b6de2d3abddf"
      },
      "execution_count": null,
      "outputs": [
        {
          "output_type": "execute_result",
          "data": {
            "text/plain": [
              "set()"
            ]
          },
          "metadata": {},
          "execution_count": 26
        }
      ]
    },
    {
      "cell_type": "markdown",
      "source": [
        "**Q 18 Write a code to remove the element 4 from the set {1, 2, 3, 4}.**"
      ],
      "metadata": {
        "id": "1Z1VoWB80tll"
      }
    },
    {
      "cell_type": "code",
      "source": [
        "set={1,2,3,4}\n",
        "set.remove(4)\n",
        "set"
      ],
      "metadata": {
        "colab": {
          "base_uri": "https://localhost:8080/"
        },
        "id": "aO5TIl800rgK",
        "outputId": "e2948ee0-897e-4209-ffb3-7d6c2cd4ed91"
      },
      "execution_count": null,
      "outputs": [
        {
          "output_type": "execute_result",
          "data": {
            "text/plain": [
              "{1, 2, 3}"
            ]
          },
          "metadata": {},
          "execution_count": 29
        }
      ]
    },
    {
      "cell_type": "markdown",
      "source": [
        "**Q 19 Write a code to find the union of two sets {1, 2, 3} and {3, 4, 5}?**"
      ],
      "metadata": {
        "id": "QIQpP0zT1BQn"
      }
    },
    {
      "cell_type": "code",
      "source": [
        "s1={1,2,3}\n",
        "s2={3,4,5}\n",
        "s1|s2"
      ],
      "metadata": {
        "colab": {
          "base_uri": "https://localhost:8080/"
        },
        "id": "vL5BNUml09fq",
        "outputId": "13a4416a-117e-4c2b-9815-d23a43e608b8"
      },
      "execution_count": null,
      "outputs": [
        {
          "output_type": "execute_result",
          "data": {
            "text/plain": [
              "{1, 2, 3, 4, 5}"
            ]
          },
          "metadata": {},
          "execution_count": 30
        }
      ]
    },
    {
      "cell_type": "markdown",
      "source": [
        "**Q 20  Write a code to find the intersection of two sets {1, 2, 3} and {2, 3, 4}?**"
      ],
      "metadata": {
        "id": "y-q9GkRk1YMa"
      }
    },
    {
      "cell_type": "code",
      "source": [
        "s1={1,2,3}\n",
        "s2={2,3,4}\n",
        "s1&s2"
      ],
      "metadata": {
        "colab": {
          "base_uri": "https://localhost:8080/"
        },
        "id": "vPBpaBax1Wa2",
        "outputId": "3477028a-c4e6-401f-b7a3-7fd17985c0c3"
      },
      "execution_count": null,
      "outputs": [
        {
          "output_type": "execute_result",
          "data": {
            "text/plain": [
              "{2, 3}"
            ]
          },
          "metadata": {},
          "execution_count": 31
        }
      ]
    },
    {
      "cell_type": "markdown",
      "source": [
        "**Q 21  Write a code to create a dictionary with the keys \"name\", \"age\", and \"city\", and print it?**"
      ],
      "metadata": {
        "id": "-bQ29HbD1nLH"
      }
    },
    {
      "cell_type": "code",
      "source": [
        "dic={\"name\":\"shubham\",\"age\":21,\"city\":\"muzaffarnagar\"}\n",
        "dic"
      ],
      "metadata": {
        "colab": {
          "base_uri": "https://localhost:8080/"
        },
        "id": "Jyb1l1gg1l7W",
        "outputId": "1aa1ee28-d2aa-4a92-81d3-7197a5dd4d6c"
      },
      "execution_count": null,
      "outputs": [
        {
          "output_type": "execute_result",
          "data": {
            "text/plain": [
              "{'name': 'shubham', 'age': 21, 'city': 'muzaffarnagar'}"
            ]
          },
          "metadata": {},
          "execution_count": 32
        }
      ]
    },
    {
      "cell_type": "markdown",
      "source": [
        "**Q 22  Write a code to add a new key-value pair \"country\": \"USA\" to the dictionary {'name': 'John', 'age': 25}?**"
      ],
      "metadata": {
        "id": "9icMFC9m15Oo"
      }
    },
    {
      "cell_type": "code",
      "source": [
        "dic={\"name\":\"John\",\"age\":25}\n",
        "dic[\"country\"]=\"USA\"\n",
        "dic"
      ],
      "metadata": {
        "id": "Sfsc8kGy13wt",
        "colab": {
          "base_uri": "https://localhost:8080/"
        },
        "outputId": "cfe6d073-5f31-4e57-93c7-10e0baaccfd1"
      },
      "execution_count": null,
      "outputs": [
        {
          "output_type": "execute_result",
          "data": {
            "text/plain": [
              "{'name': 'John', 'age': 25, 'country': 'USA'}"
            ]
          },
          "metadata": {},
          "execution_count": 3
        }
      ]
    },
    {
      "cell_type": "markdown",
      "source": [
        "**Q 23 Write a code to access the value associated with the key \"name\" in the dictionary {'name': 'Alice', 'age': 30}?**"
      ],
      "metadata": {
        "id": "CgVzYFaRngrf"
      }
    },
    {
      "cell_type": "code",
      "source": [
        "dic={\"name\":\"Alice\",\"age\":30}\n",
        "dic[\"name\"]"
      ],
      "metadata": {
        "colab": {
          "base_uri": "https://localhost:8080/",
          "height": 36
        },
        "id": "BN8Kz6tBnc1f",
        "outputId": "77ddcb50-849c-43d7-e411-dea0d683bc38"
      },
      "execution_count": null,
      "outputs": [
        {
          "output_type": "execute_result",
          "data": {
            "text/plain": [
              "'Alice'"
            ],
            "application/vnd.google.colaboratory.intrinsic+json": {
              "type": "string"
            }
          },
          "metadata": {},
          "execution_count": 4
        }
      ]
    },
    {
      "cell_type": "markdown",
      "source": [
        "**Q 24  Write a code to remove the key \"age\" from the dictionary {'name': 'Bob', 'age': 22, 'city': 'New York'}?**"
      ],
      "metadata": {
        "id": "pPK86CnLn179"
      }
    },
    {
      "cell_type": "code",
      "source": [
        "dic={\"name\":\"Bob\",\"age\":22,\"city\":\"New York\"}\n",
        "dic.pop(\"age\")\n",
        "dic"
      ],
      "metadata": {
        "colab": {
          "base_uri": "https://localhost:8080/"
        },
        "id": "L-O3fq4pnzy3",
        "outputId": "42d62f4d-93d7-4485-c989-478be6768074"
      },
      "execution_count": null,
      "outputs": [
        {
          "output_type": "execute_result",
          "data": {
            "text/plain": [
              "{'name': 'Bob', 'city': 'New York'}"
            ]
          },
          "metadata": {},
          "execution_count": 6
        }
      ]
    },
    {
      "cell_type": "markdown",
      "source": [
        "**Q 25 Write a code to check if the key \"city\" exists in the dictionary {'name': 'Alice', 'city': 'Paris'}?**"
      ],
      "metadata": {
        "id": "Pc5QRovVoOf6"
      }
    },
    {
      "cell_type": "code",
      "source": [
        "dic={\"name\":\"Alice\",\"city\":\"paris\"}\n",
        "if \"city\" in dic:\n",
        "  print(\"The key 'city' exists in the dictionary.\")\n",
        "else:\n",
        "  print(\"The key 'city' does not exist in the dictionary.\")"
      ],
      "metadata": {
        "colab": {
          "base_uri": "https://localhost:8080/"
        },
        "id": "OLY1Io_KoFQ7",
        "outputId": "41f731e1-e32b-4d28-9852-06cbb0ff25bb"
      },
      "execution_count": null,
      "outputs": [
        {
          "output_type": "stream",
          "name": "stdout",
          "text": [
            "The key 'city' exists in the dictionary.\n"
          ]
        }
      ]
    },
    {
      "cell_type": "markdown",
      "source": [
        "**Q 26 Write a code to create a list, a tuple, and a dictionary, and print them all?**"
      ],
      "metadata": {
        "id": "UmYDBkawqShc"
      }
    },
    {
      "cell_type": "code",
      "source": [
        "list=[1,22,52.6,\"shubham\"]\n",
        "tuple=(11,25,26,28,\"bhanu\")\n",
        "dict={\"name\":\"shubham\",\"surname\":\"verma\"}\n",
        "print(f'List :- {list}\\nTuple :- {tuple}\\nDict :- {dict}')"
      ],
      "metadata": {
        "colab": {
          "base_uri": "https://localhost:8080/"
        },
        "id": "bZqj3nCtqHyQ",
        "outputId": "1801bf99-dbdc-46de-9f89-90bc9d59196d"
      },
      "execution_count": 4,
      "outputs": [
        {
          "output_type": "stream",
          "name": "stdout",
          "text": [
            "List :- [1, 22, 52.6, 'shubham']\n",
            "Tuple :- (11, 25, 26, 28, 'bhanu')\n",
            "Dict :- {'name': 'shubham', 'surname': 'verma'}\n"
          ]
        }
      ]
    },
    {
      "cell_type": "markdown",
      "source": [
        "**Q 27 Write a code to create a list of 5 random numbers between 1 and 100, sort it in ascending order, and print the result.(replaced)?**\n"
      ],
      "metadata": {
        "id": "oJ3KJMEprZ1u"
      }
    },
    {
      "cell_type": "code",
      "source": [
        "import random\n",
        "\n",
        "random_numbers = []\n",
        "for i in range(5):\n",
        "  random_numbers.append(random.randint(1, 100))\n",
        "\n",
        "random_numbers.sort()\n",
        "random_numbers"
      ],
      "metadata": {
        "colab": {
          "base_uri": "https://localhost:8080/"
        },
        "id": "eQxcrfLCtQG6",
        "outputId": "6bb9fe1c-a2ba-4ff9-a463-0791ba114513"
      },
      "execution_count": null,
      "outputs": [
        {
          "output_type": "execute_result",
          "data": {
            "text/plain": [
              "[10, 69, 88, 92, 92]"
            ]
          },
          "metadata": {},
          "execution_count": 3
        }
      ]
    },
    {
      "cell_type": "markdown",
      "source": [
        "**Q 28  Write a code to create a list with strings and print the element at the third index?**"
      ],
      "metadata": {
        "id": "f2P4f_m0uko4"
      }
    },
    {
      "cell_type": "code",
      "source": [
        "list=[\"A\",\"b\",\"v\",\"m\",\"k\",\"h\",\"l\"]\n",
        "list[3]"
      ],
      "metadata": {
        "colab": {
          "base_uri": "https://localhost:8080/",
          "height": 36
        },
        "id": "M5ObcbGvui40",
        "outputId": "f337161f-3c5d-459d-a12e-7a2395b3aa22"
      },
      "execution_count": null,
      "outputs": [
        {
          "output_type": "execute_result",
          "data": {
            "text/plain": [
              "'m'"
            ],
            "application/vnd.google.colaboratory.intrinsic+json": {
              "type": "string"
            }
          },
          "metadata": {},
          "execution_count": 23
        }
      ]
    },
    {
      "cell_type": "markdown",
      "source": [
        "**Q 29 Write a code to combine two dictionaries into one and print the result?**"
      ],
      "metadata": {
        "id": "Ff7tJhpF15d1"
      }
    },
    {
      "cell_type": "code",
      "source": [
        "dic1={\"name\":\"shubham\",\"age\":22}\n",
        "dic2={\"surname\":\"verma\",\"city\":\"muzaffarnagar\"}\n",
        "dic1.update(dic2)\n",
        "dic1"
      ],
      "metadata": {
        "colab": {
          "base_uri": "https://localhost:8080/"
        },
        "id": "RejrTnOD1Pm6",
        "outputId": "ea75499d-204f-424c-cb05-ed836a654c12"
      },
      "execution_count": null,
      "outputs": [
        {
          "output_type": "execute_result",
          "data": {
            "text/plain": [
              "{'name': 'shubham', 'age': 22, 'surname': 'verma', 'city': 'muzaffarnagar'}"
            ]
          },
          "metadata": {},
          "execution_count": 26
        }
      ]
    },
    {
      "cell_type": "markdown",
      "source": [
        "**Q 30 Write a code to convert a list of strings into a set?**"
      ],
      "metadata": {
        "id": "SV-GSDgE2b0o"
      }
    },
    {
      "cell_type": "code",
      "source": [
        "lis=[\"apple\",\"mango\",\"banana\",\"orange\",\"apple\",\"mango\"]\n",
        "s=set(lis)\n",
        "s"
      ],
      "metadata": {
        "colab": {
          "base_uri": "https://localhost:8080/"
        },
        "id": "k8LVpOsO2Kxe",
        "outputId": "10d8270a-7506-40cd-b6e1-4715140c4108"
      },
      "execution_count": null,
      "outputs": [
        {
          "output_type": "execute_result",
          "data": {
            "text/plain": [
              "{'apple', 'banana', 'mango', 'orange'}"
            ]
          },
          "metadata": {},
          "execution_count": 6
        }
      ]
    },
    {
      "cell_type": "code",
      "source": [
        "type(s)"
      ],
      "metadata": {
        "colab": {
          "base_uri": "https://localhost:8080/"
        },
        "id": "6zKISP3p9zId",
        "outputId": "1988cb2c-fee6-4442-a3ee-4c584b8bec0c"
      },
      "execution_count": null,
      "outputs": [
        {
          "output_type": "execute_result",
          "data": {
            "text/plain": [
              "set"
            ]
          },
          "metadata": {},
          "execution_count": 7
        }
      ]
    }
  ]
}